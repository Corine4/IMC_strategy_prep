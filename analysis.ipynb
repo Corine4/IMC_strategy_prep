{
 "cells": [
  {
   "cell_type": "code",
   "execution_count": 1,
   "metadata": {},
   "outputs": [],
   "source": [
    "import pandas as pd\n",
    "import glob\n",
    "import os\n",
    "import json\n",
    "%matplotlib qt\n",
    "import numpy as np\n",
    "import matplotlib.pyplot as plt\n",
    "import warnings\n",
    "warnings.filterwarnings(\"always\")\n",
    "import helpers"
   ]
  },
  {
   "cell_type": "markdown",
   "metadata": {},
   "source": [
    "### Notebook for an analysis\n",
    "\n",
    "DISCLAIMER: I took some basic things from this notebook from classes with Bartosz Bieganowski (Automatic Transactional Systems)\n",
    "\n",
    "The notebook can be expanded as much as we want. In fact, we are not going to implement algorithm (I might later), because it is less fun than this explanatory data analysis"
   ]
  },
  {
   "cell_type": "code",
   "execution_count": 4,
   "metadata": {},
   "outputs": [
    {
     "name": "stderr",
     "output_type": "stream",
     "text": [
      "C:\\Users\\anton\\AppData\\Local\\Temp\\ipykernel_10700\\2186993647.py:4: ResourceWarning: unclosed file <_io.TextIOWrapper name='backtests\\\\round4.log' mode='r' encoding='UTF-8'>\n",
      "  content = open(os.path.join('backtests', chosen_backtest), 'r').readlines()\n",
      "ResourceWarning: Enable tracemalloc to get the object allocation traceback\n"
     ]
    }
   ],
   "source": [
    "# latest_backtest = max(os.listdir('backtests'), key=lambda x: os.path.getmtime(os.path.join('backtests', x)))\n",
    "# content = open(os.path.join('backtests', latest_backtest), 'r').readlines()\n",
    "chosen_backtest = \"round4.log\"\n",
    "content = open(os.path.join('backtests', chosen_backtest), 'r').readlines()"
   ]
  },
  {
   "cell_type": "code",
   "execution_count": 5,
   "metadata": {},
   "outputs": [],
   "source": [
    "trades_df, activity_logs_df, sandbox_logs = helpers.wrangle_backtest(content)"
   ]
  },
  {
   "cell_type": "code",
   "execution_count": 6,
   "metadata": {},
   "outputs": [],
   "source": [
    "instrument = \"AMETHYSTS\"\n",
    "\n",
    "ob = activity_logs_df[activity_logs_df['product'] == instrument]\n",
    "rades = trades_df[trades_df['symbol'] == instrument]\n",
    "\n",
    "my_buys = trades_df[trades_df['buyer'] == 'SUBMISSION']\n",
    "my_sells = trades_df[trades_df['seller'] == 'SUBMISSION']\n",
    "other_trades = trades_df[(trades_df['buyer'] != 'SUBMISSION') & (trades_df['seller'] != 'SUBMISSION')]"
   ]
  },
  {
   "cell_type": "code",
   "execution_count": 7,
   "metadata": {},
   "outputs": [],
   "source": [
    "# Here matplotlib qt is used for displaying graphs in different windows, etc. If you want to disable it, hash it above\n",
    "plt.figure(figsize=(10, 5))\n",
    "plt.plot(ob['bid_price_1'], label='bid_price')\n",
    "plt.plot(ob['ask_price_1'], label='ask_price')\n",
    "plt.scatter(my_buys.index, my_buys['price'], label='my_buys', color='green', marker='^')\n",
    "plt.scatter(my_sells.index, my_sells['price'], label='my_sells', color='red', marker='v')\n",
    "plt.scatter(other_trades.index, other_trades['price'], label='other_trades', color='blue', marker='o')\n",
    "plt.legend()\n",
    "plt.show()"
   ]
  },
  {
   "cell_type": "code",
   "execution_count": null,
   "metadata": {},
   "outputs": [],
   "source": [
    "# here you can see how I calculated the mid. In general it is best to use VWAP (volume-weighted average price), so you also level 2 data, but you can decide whatever\n",
    "ob[\"mid\"] = (ob[\"bid_price_1\"] + ob[\"ask_price_1\"])/2\n",
    "ob[\"mid_lev2\"]= (ob[\"bid_price_2\"] + ob[\"ask_price_2\"])/2\n",
    "ob[\"weighted_mid\"]= (ob[\"bid_price_1\"] * ob[\"bid_volume_1\"] + ob[\"ask_price_1\"] * ob[\"ask_volume_1\"])/ (ob[\"bid_volume_1\"]+ob[\"ask_volume_1\"])\n",
    "\n",
    "ob[\"mid_fv_divergance\"] = ob[\"mid_lev2\"] - ob[\"mid\"]"
   ]
  },
  {
   "cell_type": "code",
   "execution_count": null,
   "metadata": {},
   "outputs": [],
   "source": [
    "AMday0 = ob.query(\"day == 0\")\n",
    "AMday1 = ob.query(\"day == -1\")\n",
    "AMday2 = ob.query(\"day == -2\")"
   ]
  },
  {
   "cell_type": "code",
   "execution_count": null,
   "metadata": {},
   "outputs": [],
   "source": [
    "AMday0[\"spread\"] = AMday0[\"bid_price_1\"] - AMday0[\"ask_price_1\"]\n",
    "AMday1[\"spread\"] = AMday1[\"bid_price_1\"] - AMday1[\"ask_price_1\"]\n",
    "AMday2[\"spread\"] = AMday2[\"bid_price_1\"] - AMday2[\"ask_price_1\"]"
   ]
  }
 ],
 "metadata": {
  "kernelspec": {
   "display_name": "research",
   "language": "python",
   "name": "python3"
  },
  "language_info": {
   "codemirror_mode": {
    "name": "ipython",
    "version": 3
   },
   "file_extension": ".py",
   "mimetype": "text/x-python",
   "name": "python",
   "nbconvert_exporter": "python",
   "pygments_lexer": "ipython3",
   "version": "3.10.12"
  }
 },
 "nbformat": 4,
 "nbformat_minor": 2
}
